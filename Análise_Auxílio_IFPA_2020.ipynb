{
  "nbformat": 4,
  "nbformat_minor": 0,
  "metadata": {
    "colab": {
      "name": "Análise_Auxílio_IFPA_2020.ipynb",
      "provenance": [],
      "collapsed_sections": [],
      "mount_file_id": "1SX2vHEbX7kSmosvpQMPgwmrAA4vqRME3",
      "authorship_tag": "ABX9TyMAOlhg29X4gr+LWzXVf5s5",
      "include_colab_link": true
    },
    "kernelspec": {
      "name": "python3",
      "display_name": "Python 3"
    }
  },
  "cells": [
    {
      "cell_type": "markdown",
      "metadata": {
        "id": "view-in-github",
        "colab_type": "text"
      },
      "source": [
        "<a href=\"https://colab.research.google.com/github/jrneliodias/analise_auxilio_ifpa_2020/blob/main/An%C3%A1lise_Aux%C3%ADlio_IFPA_2020.ipynb\" target=\"_parent\"><img src=\"https://colab.research.google.com/assets/colab-badge.svg\" alt=\"Open In Colab\"/></a>"
      ]
    },
    {
      "cell_type": "markdown",
      "metadata": {
        "id": "JnMBe4WJqn6O"
      },
      "source": [
        "# Exporta-se as tabelas excel em Dataframes"
      ]
    },
    {
      "cell_type": "code",
      "metadata": {
        "id": "yZhRWET6PEmS",
        "outputId": "9d67b434-409d-4f58-c717-1497cba363a5",
        "colab": {
          "base_uri": "https://localhost:8080/",
          "height": 960
        }
      },
      "source": [
        "import pandas as pd\n",
        "import numpy  as np\n",
        "import matplotlib.pyplot as plt\n",
        "\n",
        "# importando os dados do das planilhas do Excel\n",
        "\n",
        "tab_alunos_dig  = pd.read_excel('/content/drive/My Drive/Colab Notebooks/AUXILIO DIGITAL.xlsx')\n",
        "tab_alunos_perm = pd.read_excel('/content/drive/My Drive/Colab Notebooks/AUXÍLIO PERMANÊNCIA 2020.xlsx')\n",
        "\n",
        "# Como cria-se vários dataframes, usa-se o método concat para juntá-las em uma só em colunas.\n",
        "Alunos_grad_df  = pd.concat( [pd.read_excel( '/content/drive/My Drive/Colab Notebooks/Controle e Automação.xlsx'    , usecols='A'),\n",
        "                              pd.read_excel( '/content/drive/My Drive/Colab Notebooks/Biologia.xlsx'                , usecols='B'),\n",
        "                              pd.read_excel( '/content/drive/My Drive/Colab Notebooks/Eletrotecnica Industrial.xlsx', usecols='B'),\n",
        "                              pd.read_excel( '/content/drive/My Drive/Colab Notebooks/Física.xlsx'                  , usecols='B'),\n",
        "                              pd.read_excel( '/content/drive/My Drive/Colab Notebooks/Geografia.xlsx'               , usecols='B'),\n",
        "                              pd.read_excel( '/content/drive/My Drive/Colab Notebooks/Gestão Hospitalar.xlsx'       , usecols='B'),\n",
        "                              pd.read_excel( '/content/drive/My Drive/Colab Notebooks/Gestão Pública.xlsx'          , usecols='B'),\n",
        "                              pd.read_excel( '/content/drive/My Drive/Colab Notebooks/História.xlsx'                , usecols='B'),\n",
        "                              pd.read_excel( '/content/drive/My Drive/Colab Notebooks/Letras.xlsx'                  , usecols='B'),\n",
        "                              pd.read_excel( '/content/drive/My Drive/Colab Notebooks/Matemática.xlsx'              , usecols='B'),\n",
        "                              pd.read_excel( '/content/drive/My Drive/Colab Notebooks/Pedagogia.xlsx'               , usecols='B'),\n",
        "                              pd.read_excel( '/content/drive/My Drive/Colab Notebooks/Química.xlsx'                 , usecols='B'),\n",
        "                              pd.read_excel( '/content/drive/My Drive/Colab Notebooks/Saneamento Ambiental.xlsx'    , usecols='B'),\n",
        "                              pd.read_excel( '/content/drive/My Drive/Colab Notebooks/TADS.xlsx'                    , usecols='B'),\n",
        "                              pd.read_excel( '/content/drive/My Drive/Colab Notebooks/Telecom.xlsx'                 , usecols='B'),\n",
        "                              pd.read_excel( '/content/drive/My Drive/Colab Notebooks/E. Materiais.xlsx'            , usecols='B')], axis =1)\n",
        "\n",
        "# Nomeia-se as colunas\n",
        "Alunos_grad_df.columns = ['Alunos_ECA','Alunos_Bio','Alunos_Eind','Alunos_Fis','Alunos_Geo','Alunos_Ghosp','Alunos_GPub','Alunos_Hist',\n",
        "                          'Alunos_Let','Alunos_Mat','Alunos_Ped','Alunos_Qui','Alunos_SanAmb','Alunos_tads' ,'Alunos_Tele' ,'Alunos_Emat' ]\n"
      ],
      "execution_count": 2,
      "outputs": [
        {
          "output_type": "execute_result",
          "data": {
            "text/html": [
              "<div>\n",
              "<style scoped>\n",
              "    .dataframe tbody tr th:only-of-type {\n",
              "        vertical-align: middle;\n",
              "    }\n",
              "\n",
              "    .dataframe tbody tr th {\n",
              "        vertical-align: top;\n",
              "    }\n",
              "\n",
              "    .dataframe thead th {\n",
              "        text-align: right;\n",
              "    }\n",
              "</style>\n",
              "<table border=\"1\" class=\"dataframe\">\n",
              "  <thead>\n",
              "    <tr style=\"text-align: right;\">\n",
              "      <th></th>\n",
              "      <th>Alunos_ECA</th>\n",
              "      <th>Alunos_Bio</th>\n",
              "      <th>Alunos_Eind</th>\n",
              "      <th>Alunos_Fis</th>\n",
              "      <th>Alunos_Geo</th>\n",
              "      <th>Alunos_Ghosp</th>\n",
              "      <th>Alunos_GPub</th>\n",
              "      <th>Alunos_Hist</th>\n",
              "      <th>Alunos_Let</th>\n",
              "      <th>Alunos_Mat</th>\n",
              "      <th>Alunos_Ped</th>\n",
              "      <th>Alunos_Qui</th>\n",
              "      <th>Alunos_SanAmb</th>\n",
              "      <th>Alunos_tads</th>\n",
              "      <th>Alunos_Tele</th>\n",
              "      <th>Alunos_Emat</th>\n",
              "    </tr>\n",
              "  </thead>\n",
              "  <tbody>\n",
              "    <tr>\n",
              "      <th>0</th>\n",
              "      <td>ADEMAR DE LUCAS DOS SANTOS PONTES</td>\n",
              "      <td>ADAN RODRIGUES DE OLIVEIRA</td>\n",
              "      <td>ABRAÃO LÍBBNO DAMASCENO MIRANDA</td>\n",
              "      <td>ABRAAO ROBERTO RODRIGUES DE ARAUJO</td>\n",
              "      <td>ADRIANA NOGUEIRA GOMES</td>\n",
              "      <td>ADRINE DO CARMO SANTOS</td>\n",
              "      <td>ADNA VITÓRIA BOTELHO SARAIVA</td>\n",
              "      <td>ADRIELLE SOUSA QUEIROZ</td>\n",
              "      <td>ABNER MATHEUS DE JESUS PENA</td>\n",
              "      <td>ADEMIR JULIO DOS REMEDIOS</td>\n",
              "      <td>ABIGAIL SARAI MODESTO DO ROSÁRIO</td>\n",
              "      <td>ABDA QUÉREM DE OLIVEIRA PEREIRA</td>\n",
              "      <td>ABIMAEL NONATO DE SOUZA</td>\n",
              "      <td>ADRIANO VILHENA PINTO</td>\n",
              "      <td>ADALTO SILVA DOS REIS</td>\n",
              "      <td>ADREA CRISTINA SOARES DA SILVA</td>\n",
              "    </tr>\n",
              "    <tr>\n",
              "      <th>1</th>\n",
              "      <td>ADRIE JUNIOR SERRANO DA SILVA MOOIJ</td>\n",
              "      <td>ADRIA CAROLINE FRANCA RODRIGUES</td>\n",
              "      <td>ADAMILTON LUNA MENDONÇA</td>\n",
              "      <td>ADALBERTO XAVIER FEITOSA DA FONSECA</td>\n",
              "      <td>ADRIELLY DUARTE FERREIRA</td>\n",
              "      <td>ANA CLARA ARAÚJO DOS SANTOS</td>\n",
              "      <td>ADRIANE SOUSA NASCIMENTO</td>\n",
              "      <td>ALEXANDRE DANIEL GONCALVES NUNES</td>\n",
              "      <td>ADRIANNE CRISTINE SARAIVA SANTOS DOS SANTOS</td>\n",
              "      <td>AÉLISSON DA SILVA MIRANDA</td>\n",
              "      <td>ADRIANA CORRÊA DA SILVA</td>\n",
              "      <td>ADOLFO DE SOUZA VIEIRA</td>\n",
              "      <td>ADAILSON DE SOUZA RAMOS</td>\n",
              "      <td>ADRIELLE CRISTINA CUNHA DE SOUZA</td>\n",
              "      <td>ALDO CESAR LOBO FIGUEIREDO</td>\n",
              "      <td>ADRIELE MARQUES GOMES</td>\n",
              "    </tr>\n",
              "    <tr>\n",
              "      <th>2</th>\n",
              "      <td>ADRIEL BRITO DA SILVA</td>\n",
              "      <td>ADRIANE ROBERTA CASTRO HOLANDA</td>\n",
              "      <td>ALAN NUNES GOMES</td>\n",
              "      <td>ADRIANO SOUZA ROCHA</td>\n",
              "      <td>ADYS RIGUEL LUZ MACIEL</td>\n",
              "      <td>ANA RAISSA RISUENHO DOS SANTOS</td>\n",
              "      <td>ALAN MATHEUS DE SOUZA VIEIRA</td>\n",
              "      <td>ANA KESSIA DA COSTA MELO</td>\n",
              "      <td>ADRIENNY CAROLINA RAMOS SOUZA</td>\n",
              "      <td>ALAN ARAUJO DE ARAUJO</td>\n",
              "      <td>ADRIANA DA COSTA MAFRA</td>\n",
              "      <td>ADRIANO SILVA DE SOUZA</td>\n",
              "      <td>ADELAN NUNES DA COSTA</td>\n",
              "      <td>AILSON PENA DOS SANTOS</td>\n",
              "      <td>ANTONIO MARCOS PINHEIRO MONTEIRO</td>\n",
              "      <td>AGATHA ROBERTA COUTO QUEMEL</td>\n",
              "    </tr>\n",
              "    <tr>\n",
              "      <th>3</th>\n",
              "      <td>AHYLTON DA SILVA CAMPOS</td>\n",
              "      <td>ADRIANO JEFFERSON SOARES MODESTO</td>\n",
              "      <td>ANTONIO ELTON DA SILVA CORRÊA</td>\n",
              "      <td>ALCEMIRO PAES DE MORAES JÚNIOR</td>\n",
              "      <td>ALANA GLENDA PORTAL AMADOR</td>\n",
              "      <td>ARTHUR SALOMÃO GARCIA BEGOT</td>\n",
              "      <td>ALICIA DA SILVA NUNES</td>\n",
              "      <td>ANDERSON PAULO SANTOS PEREIRA</td>\n",
              "      <td>AELIELMA BRAGA FAVACHO</td>\n",
              "      <td>ALDO PALHETA PEREIRA</td>\n",
              "      <td>ADRIANA DO SOCORRO DE CASTRO MORAES</td>\n",
              "      <td>ÁDRIA PEREZ BESSA SARAIVA</td>\n",
              "      <td>ADRIEL ALVES PEREIRA</td>\n",
              "      <td>ALBERT IVY LIMA PEREIRA</td>\n",
              "      <td>ARIANE DA MATA COSTA</td>\n",
              "      <td>ALDENICE DOS REIS DIAS</td>\n",
              "    </tr>\n",
              "    <tr>\n",
              "      <th>4</th>\n",
              "      <td>ALBERTO SOLARY DA SILVA</td>\n",
              "      <td>ADRIEL BRENO PAMPLONA SILVA</td>\n",
              "      <td>ANTONIO WELLINGTON SILVA SOUZA</td>\n",
              "      <td>ALESSANDRO DE SOUZA VALLE</td>\n",
              "      <td>ALESSANDRA LABELLE PEREIRA SILVA</td>\n",
              "      <td>BEATRIZ SANTOS DE OLIVEIRA</td>\n",
              "      <td>ALINE MIRANDA DA SILVA</td>\n",
              "      <td>ANDRE LUIZ CARVALHO CHAVES</td>\n",
              "      <td>ALECSON CASTRO FERREIRA</td>\n",
              "      <td>ALMIR JUNIOR DE SOUZA</td>\n",
              "      <td>ADRIANA DOS SANTOS PORTELA</td>\n",
              "      <td>ALDA LUCIA COSTA FONSECA</td>\n",
              "      <td>AIME VICTORIA DE SOUZA NAVEGANTES</td>\n",
              "      <td>ALDO CESAR LOBO FIGUEIREDO FILHO</td>\n",
              "      <td>ARTHUR LEONARDO BRAZ DA SILVA</td>\n",
              "      <td>AMANDA DE PAULA DA SILVA DOS SANTOS</td>\n",
              "    </tr>\n",
              "    <tr>\n",
              "      <th>...</th>\n",
              "      <td>...</td>\n",
              "      <td>...</td>\n",
              "      <td>...</td>\n",
              "      <td>...</td>\n",
              "      <td>...</td>\n",
              "      <td>...</td>\n",
              "      <td>...</td>\n",
              "      <td>...</td>\n",
              "      <td>...</td>\n",
              "      <td>...</td>\n",
              "      <td>...</td>\n",
              "      <td>...</td>\n",
              "      <td>...</td>\n",
              "      <td>...</td>\n",
              "      <td>...</td>\n",
              "      <td>...</td>\n",
              "    </tr>\n",
              "    <tr>\n",
              "      <th>318</th>\n",
              "      <td>NaN</td>\n",
              "      <td>NaN</td>\n",
              "      <td>NaN</td>\n",
              "      <td>NaN</td>\n",
              "      <td>NaN</td>\n",
              "      <td>NaN</td>\n",
              "      <td>NaN</td>\n",
              "      <td>NaN</td>\n",
              "      <td>NaN</td>\n",
              "      <td>NaN</td>\n",
              "      <td>WILKA DE SOUSA BARBOSA</td>\n",
              "      <td>NaN</td>\n",
              "      <td>NaN</td>\n",
              "      <td>NaN</td>\n",
              "      <td>NaN</td>\n",
              "      <td>NaN</td>\n",
              "    </tr>\n",
              "    <tr>\n",
              "      <th>319</th>\n",
              "      <td>NaN</td>\n",
              "      <td>NaN</td>\n",
              "      <td>NaN</td>\n",
              "      <td>NaN</td>\n",
              "      <td>NaN</td>\n",
              "      <td>NaN</td>\n",
              "      <td>NaN</td>\n",
              "      <td>NaN</td>\n",
              "      <td>NaN</td>\n",
              "      <td>NaN</td>\n",
              "      <td>WOSHYGNTON ALEXANDRE FREITAS CARNEIRO</td>\n",
              "      <td>NaN</td>\n",
              "      <td>NaN</td>\n",
              "      <td>NaN</td>\n",
              "      <td>NaN</td>\n",
              "      <td>NaN</td>\n",
              "    </tr>\n",
              "    <tr>\n",
              "      <th>320</th>\n",
              "      <td>NaN</td>\n",
              "      <td>NaN</td>\n",
              "      <td>NaN</td>\n",
              "      <td>NaN</td>\n",
              "      <td>NaN</td>\n",
              "      <td>NaN</td>\n",
              "      <td>NaN</td>\n",
              "      <td>NaN</td>\n",
              "      <td>NaN</td>\n",
              "      <td>NaN</td>\n",
              "      <td>YNGRID AMANDA DA SILVEIRA SILVA</td>\n",
              "      <td>NaN</td>\n",
              "      <td>NaN</td>\n",
              "      <td>NaN</td>\n",
              "      <td>NaN</td>\n",
              "      <td>NaN</td>\n",
              "    </tr>\n",
              "    <tr>\n",
              "      <th>321</th>\n",
              "      <td>NaN</td>\n",
              "      <td>NaN</td>\n",
              "      <td>NaN</td>\n",
              "      <td>NaN</td>\n",
              "      <td>NaN</td>\n",
              "      <td>NaN</td>\n",
              "      <td>NaN</td>\n",
              "      <td>NaN</td>\n",
              "      <td>NaN</td>\n",
              "      <td>NaN</td>\n",
              "      <td>YWLLY SUÉLLEN RODRIGUES DO CARMO LAMEIRA</td>\n",
              "      <td>NaN</td>\n",
              "      <td>NaN</td>\n",
              "      <td>NaN</td>\n",
              "      <td>NaN</td>\n",
              "      <td>NaN</td>\n",
              "    </tr>\n",
              "    <tr>\n",
              "      <th>322</th>\n",
              "      <td>NaN</td>\n",
              "      <td>NaN</td>\n",
              "      <td>NaN</td>\n",
              "      <td>NaN</td>\n",
              "      <td>NaN</td>\n",
              "      <td>NaN</td>\n",
              "      <td>NaN</td>\n",
              "      <td>NaN</td>\n",
              "      <td>NaN</td>\n",
              "      <td>NaN</td>\n",
              "      <td>ZAIRA AMANDA DOS SANTOS CARVALHO</td>\n",
              "      <td>NaN</td>\n",
              "      <td>NaN</td>\n",
              "      <td>NaN</td>\n",
              "      <td>NaN</td>\n",
              "      <td>NaN</td>\n",
              "    </tr>\n",
              "  </tbody>\n",
              "</table>\n",
              "<p>323 rows × 16 columns</p>\n",
              "</div>"
            ],
            "text/plain": [
              "                              Alunos_ECA  ...                          Alunos_Emat\n",
              "0      ADEMAR DE LUCAS DOS SANTOS PONTES  ...       ADREA CRISTINA SOARES DA SILVA\n",
              "1    ADRIE JUNIOR SERRANO DA SILVA MOOIJ  ...                ADRIELE MARQUES GOMES\n",
              "2                  ADRIEL BRITO DA SILVA  ...          AGATHA ROBERTA COUTO QUEMEL\n",
              "3                AHYLTON DA SILVA CAMPOS  ...               ALDENICE DOS REIS DIAS\n",
              "4                ALBERTO SOLARY DA SILVA  ...  AMANDA DE PAULA DA SILVA DOS SANTOS\n",
              "..                                   ...  ...                                  ...\n",
              "318                                  NaN  ...                                  NaN\n",
              "319                                  NaN  ...                                  NaN\n",
              "320                                  NaN  ...                                  NaN\n",
              "321                                  NaN  ...                                  NaN\n",
              "322                                  NaN  ...                                  NaN\n",
              "\n",
              "[323 rows x 16 columns]"
            ]
          },
          "metadata": {
            "tags": []
          },
          "execution_count": 2
        }
      ]
    },
    {
      "cell_type": "markdown",
      "metadata": {
        "id": "gm5iJXqrsmKA"
      },
      "source": [
        "# Separa-se os alunos indeferidos e deferidos nos auxílios em tabelas diferentes\n"
      ]
    },
    {
      "cell_type": "code",
      "metadata": {
        "id": "Y3df7kEGRkia"
      },
      "source": [
        "# Ajustando os nomes da coluna da tabela de Auxílio Permanente\n",
        "tab_alunos_perm.columns = [\"ALUNOS\", \"RESULTADO\"]\n",
        "\n",
        "# fazendo duas séries com apenas com os alunos deferidos e refazendo os index's\n",
        "df_alunos_dig_def  = tab_alunos_dig[tab_alunos_dig['RESULTADO']  =='DEFERIDO']['ALUNOS'].reset_index(drop=True)\n",
        "df_alunos_perm_def = tab_alunos_perm[tab_alunos_perm['RESULTADO']=='DEFERIDO']['ALUNOS'].reset_index(drop=True)\n",
        "\n",
        "# fazendo duas séries com apenas com os alunos indeferidos e refazendo os index's\n",
        "df_alunos_dig_indef  = tab_alunos_dig[tab_alunos_dig['RESULTADO']  =='INDEFERIDO']['ALUNOS'].reset_index(drop=True)\n",
        "df_alunos_perm_indef = tab_alunos_perm[tab_alunos_perm['RESULTADO']=='INDEFERIDO']['ALUNOS'].reset_index(drop=True)\n",
        "\n"
      ],
      "execution_count": 3,
      "outputs": []
    },
    {
      "cell_type": "markdown",
      "metadata": {
        "id": "jGiqyc4Yp7WA"
      },
      "source": [
        "Transforma-se a série de alunos deferidos e o dataframe com os alunos da graduação em conjuntos para obter a interseção entre eles, depois em o resultado lista  e arruma-se em ordem alfabética. "
      ]
    },
    {
      "cell_type": "code",
      "metadata": {
        "id": "AUxDqRCV3Yrd"
      },
      "source": [
        "# Lista dos alunos que possuem os dois auxílios\n",
        "alunos_ambos_aux_grad =  set(df_alunos_dig_def) & set(df_alunos_perm_def) & set(Alunos_grad_df.values.flatten())\n",
        "\n",
        "# Alunos que possuem apenas um dos auxílios \n",
        "alunos_grad_dig  =  set(df_alunos_dig_def)  & set(Alunos_grad_df.values.flatten())\n",
        "alunos_grad_perm =  set(df_alunos_perm_def) & set(Alunos_grad_df.values.flatten())\n",
        "\n",
        "Alunos_def_grad_dig  = pd.Series(sorted( list( alunos_grad_dig  - alunos_ambos_aux_grad )))\n",
        "Alunos_def_grad_perm = pd.Series(sorted( list( alunos_grad_perm - alunos_ambos_aux_grad )) )\n",
        "\n",
        "Alunos_indef_grad_dig  = pd.Series(sorted( list( set(df_alunos_dig_indef) & set(Alunos_grad_df.values.flatten()) )) )\n",
        "Alunos_indef_grad_perm = pd.Series(sorted( list( set(df_alunos_perm_indef) & set(Alunos_grad_df.values.flatten()) )))\n",
        "\n",
        "Alunos_ambos_aux_grad = pd.Series(list(alunos_ambos_aux_grad))\n"
      ],
      "execution_count": 4,
      "outputs": []
    },
    {
      "cell_type": "markdown",
      "metadata": {
        "id": "gpeYcwOtpSau"
      },
      "source": [
        "Em seguida, cria-se tabelas das quantidades de alunos em cada curso que recebem um dos dois auxílios"
      ]
    },
    {
      "cell_type": "code",
      "metadata": {
        "id": "UkLVeYZcGWXX",
        "outputId": "77e68399-761d-4dd6-f372-546d0956ecdb",
        "colab": {
          "base_uri": "https://localhost:8080/",
          "height": 157
        }
      },
      "source": [
        "# Criar um df com a quantidade de alunos que recebem cada auxílio por curso.\n",
        "quant_alunos_aux   = pd.DataFrame(columns=Alunos_grad_df.columns, index=['Aux_perm', 'Aux_dig', 'Ambos_Aux'])\n",
        "quant_alunos_indef = pd.DataFrame(columns=Alunos_grad_df.columns, index=['Aux_perm', 'Aux_dig','Ambos_Aux'])\n",
        "\n",
        "# Loop para mapear quais alunos recebem auxílio\n",
        "for columns in Alunos_grad_df:\n",
        "  quant_alunos_aux[columns]['Aux_dig']   = Alunos_grad_df[columns].map(Alunos_def_grad_dig.value_counts()).sum( )\n",
        "  quant_alunos_aux[columns]['Aux_perm']  = Alunos_grad_df[columns].map(Alunos_def_grad_perm.value_counts()).sum( )\n",
        "  quant_alunos_aux[columns]['Ambos_Aux'] = Alunos_grad_df[columns].map(Alunos_ambos_aux_grad.value_counts()).sum( )\n",
        "\n",
        "for columns in Alunos_grad_df:\n",
        "  quant_alunos_indef[columns]['Aux_dig']  = Alunos_grad_df[columns].map(Alunos_indef_grad_dig.value_counts()).sum( )\n",
        "  quant_alunos_indef[columns]['Aux_perm'] = Alunos_grad_df[columns].map(Alunos_indef_grad_perm.value_counts()).sum( )\n",
        "\n"
      ],
      "execution_count": 6,
      "outputs": [
        {
          "output_type": "execute_result",
          "data": {
            "text/html": [
              "<div>\n",
              "<style scoped>\n",
              "    .dataframe tbody tr th:only-of-type {\n",
              "        vertical-align: middle;\n",
              "    }\n",
              "\n",
              "    .dataframe tbody tr th {\n",
              "        vertical-align: top;\n",
              "    }\n",
              "\n",
              "    .dataframe thead th {\n",
              "        text-align: right;\n",
              "    }\n",
              "</style>\n",
              "<table border=\"1\" class=\"dataframe\">\n",
              "  <thead>\n",
              "    <tr style=\"text-align: right;\">\n",
              "      <th></th>\n",
              "      <th>Alunos_ECA</th>\n",
              "      <th>Alunos_Bio</th>\n",
              "      <th>Alunos_Eind</th>\n",
              "      <th>Alunos_Fis</th>\n",
              "      <th>Alunos_Geo</th>\n",
              "      <th>Alunos_Ghosp</th>\n",
              "      <th>Alunos_GPub</th>\n",
              "      <th>Alunos_Hist</th>\n",
              "      <th>Alunos_Let</th>\n",
              "      <th>Alunos_Mat</th>\n",
              "      <th>Alunos_Ped</th>\n",
              "      <th>Alunos_Qui</th>\n",
              "      <th>Alunos_SanAmb</th>\n",
              "      <th>Alunos_tads</th>\n",
              "      <th>Alunos_Tele</th>\n",
              "      <th>Alunos_Emat</th>\n",
              "    </tr>\n",
              "  </thead>\n",
              "  <tbody>\n",
              "    <tr>\n",
              "      <th>Aux_perm</th>\n",
              "      <td>10</td>\n",
              "      <td>27</td>\n",
              "      <td>1</td>\n",
              "      <td>7</td>\n",
              "      <td>10</td>\n",
              "      <td>4</td>\n",
              "      <td>3</td>\n",
              "      <td>6</td>\n",
              "      <td>13</td>\n",
              "      <td>4</td>\n",
              "      <td>15</td>\n",
              "      <td>4</td>\n",
              "      <td>10</td>\n",
              "      <td>2</td>\n",
              "      <td>4</td>\n",
              "      <td>7</td>\n",
              "    </tr>\n",
              "    <tr>\n",
              "      <th>Aux_dig</th>\n",
              "      <td>6</td>\n",
              "      <td>3</td>\n",
              "      <td>1</td>\n",
              "      <td>13</td>\n",
              "      <td>10</td>\n",
              "      <td>4</td>\n",
              "      <td>12</td>\n",
              "      <td>0</td>\n",
              "      <td>9</td>\n",
              "      <td>5</td>\n",
              "      <td>13</td>\n",
              "      <td>6</td>\n",
              "      <td>2</td>\n",
              "      <td>7</td>\n",
              "      <td>4</td>\n",
              "      <td>6</td>\n",
              "    </tr>\n",
              "    <tr>\n",
              "      <th>Ambos_Aux</th>\n",
              "      <td>9</td>\n",
              "      <td>10</td>\n",
              "      <td>6</td>\n",
              "      <td>5</td>\n",
              "      <td>6</td>\n",
              "      <td>3</td>\n",
              "      <td>5</td>\n",
              "      <td>1</td>\n",
              "      <td>9</td>\n",
              "      <td>12</td>\n",
              "      <td>13</td>\n",
              "      <td>3</td>\n",
              "      <td>3</td>\n",
              "      <td>6</td>\n",
              "      <td>3</td>\n",
              "      <td>6</td>\n",
              "    </tr>\n",
              "  </tbody>\n",
              "</table>\n",
              "</div>"
            ],
            "text/plain": [
              "          Alunos_ECA Alunos_Bio Alunos_Eind  ... Alunos_tads Alunos_Tele Alunos_Emat\n",
              "Aux_perm          10         27           1  ...           2           4           7\n",
              "Aux_dig            6          3           1  ...           7           4           6\n",
              "Ambos_Aux          9         10           6  ...           6           3           6\n",
              "\n",
              "[3 rows x 16 columns]"
            ]
          },
          "metadata": {
            "tags": []
          },
          "execution_count": 6
        }
      ]
    },
    {
      "cell_type": "markdown",
      "metadata": {
        "id": "HoURHv5fE0e0"
      },
      "source": [
        "Plotar o gráfico da quantidade de alunos que recebem auxílio da graduação"
      ]
    },
    {
      "cell_type": "code",
      "metadata": {
        "id": "ZBcxWuGWEwC4",
        "outputId": "73e9f99b-3251-442d-ecbf-4967174f3300",
        "colab": {
          "base_uri": "https://localhost:8080/",
          "height": 238
        }
      },
      "source": [
        "\n",
        "quant_aux_grad = pd.DataFrame([len(Alunos_def_grad_dig), len(Alunos_def_grad_perm)], index = ['Aux_dig','Aux_perm']).T \n",
        "\n",
        "quant_aux_grad = quant_aux_grad - alunos_ambos_aux\n",
        "quant_aux_grad['Ambos_aux'] = alunos_ambos_aux\n",
        "quant_aux_grad.T.plot.bar(figsize = (20,6), fontsize= 15)"
      ],
      "execution_count": 7,
      "outputs": [
        {
          "output_type": "error",
          "ename": "NameError",
          "evalue": "ignored",
          "traceback": [
            "\u001b[0;31m---------------------------------------------------------------------------\u001b[0m",
            "\u001b[0;31mNameError\u001b[0m                                 Traceback (most recent call last)",
            "\u001b[0;32m<ipython-input-7-34b65e46a85c>\u001b[0m in \u001b[0;36m<module>\u001b[0;34m()\u001b[0m\n\u001b[1;32m      2\u001b[0m \u001b[0mquant_aux_grad\u001b[0m \u001b[0;34m=\u001b[0m \u001b[0mpd\u001b[0m\u001b[0;34m.\u001b[0m\u001b[0mDataFrame\u001b[0m\u001b[0;34m(\u001b[0m\u001b[0;34m[\u001b[0m\u001b[0mlen\u001b[0m\u001b[0;34m(\u001b[0m\u001b[0mAlunos_def_grad_dig\u001b[0m\u001b[0;34m)\u001b[0m\u001b[0;34m,\u001b[0m \u001b[0mlen\u001b[0m\u001b[0;34m(\u001b[0m\u001b[0mAlunos_def_grad_perm\u001b[0m\u001b[0;34m)\u001b[0m\u001b[0;34m]\u001b[0m\u001b[0;34m,\u001b[0m \u001b[0mindex\u001b[0m \u001b[0;34m=\u001b[0m \u001b[0;34m[\u001b[0m\u001b[0;34m'Aux_dig'\u001b[0m\u001b[0;34m,\u001b[0m\u001b[0;34m'Aux_perm'\u001b[0m\u001b[0;34m]\u001b[0m\u001b[0;34m)\u001b[0m\u001b[0;34m.\u001b[0m\u001b[0mT\u001b[0m\u001b[0;34m\u001b[0m\u001b[0;34m\u001b[0m\u001b[0m\n\u001b[1;32m      3\u001b[0m \u001b[0;34m\u001b[0m\u001b[0m\n\u001b[0;32m----> 4\u001b[0;31m \u001b[0mquant_aux_grad\u001b[0m \u001b[0;34m=\u001b[0m \u001b[0mquant_aux_grad\u001b[0m \u001b[0;34m-\u001b[0m \u001b[0malunos_ambos_aux\u001b[0m\u001b[0;34m\u001b[0m\u001b[0;34m\u001b[0m\u001b[0m\n\u001b[0m\u001b[1;32m      5\u001b[0m \u001b[0mquant_aux_grad\u001b[0m\u001b[0;34m[\u001b[0m\u001b[0;34m'Ambos_aux'\u001b[0m\u001b[0;34m]\u001b[0m \u001b[0;34m=\u001b[0m \u001b[0malunos_ambos_aux\u001b[0m\u001b[0;34m\u001b[0m\u001b[0;34m\u001b[0m\u001b[0m\n\u001b[1;32m      6\u001b[0m \u001b[0mquant_aux_grad\u001b[0m\u001b[0;34m.\u001b[0m\u001b[0mT\u001b[0m\u001b[0;34m.\u001b[0m\u001b[0mplot\u001b[0m\u001b[0;34m.\u001b[0m\u001b[0mbar\u001b[0m\u001b[0;34m(\u001b[0m\u001b[0mfigsize\u001b[0m \u001b[0;34m=\u001b[0m \u001b[0;34m(\u001b[0m\u001b[0;36m20\u001b[0m\u001b[0;34m,\u001b[0m\u001b[0;36m6\u001b[0m\u001b[0;34m)\u001b[0m\u001b[0;34m,\u001b[0m \u001b[0mfontsize\u001b[0m\u001b[0;34m=\u001b[0m \u001b[0;36m15\u001b[0m\u001b[0;34m)\u001b[0m\u001b[0;34m\u001b[0m\u001b[0;34m\u001b[0m\u001b[0m\n",
            "\u001b[0;31mNameError\u001b[0m: name 'alunos_ambos_aux' is not defined"
          ]
        }
      ]
    },
    {
      "cell_type": "code",
      "metadata": {
        "id": "7aTVy8LUFSq8",
        "outputId": "836c26d2-1db4-4200-d58d-c207e0131314",
        "colab": {
          "base_uri": "https://localhost:8080/",
          "height": 574
        }
      },
      "source": [
        "\n",
        "alunos_grad_sem_aux = Alunos_grad_df.count().sum()- quant_alunos_aux.values.sum()\n",
        "labels = 'alunos com auxílio', 'alunos sem auxílio'\n",
        "sizes = [quant_aux_grad.values.sum(), Alunos_grad_df.count().sum() - quant_aux_grad.values.sum()]/Alunos_grad_df.count().sum()\n",
        "\n",
        "fig1, ax1 = plt.subplots()\n",
        "ax1.pie(sizes, labels=labels, autopct='%1.1f%%', startangle=90)\n",
        "plt.rcParams[\"figure.figsize\"] = [10, 10]\n",
        "ax1.axis('equal')  # Equal aspect ratio ensures that pie is drawn as a circle.\n",
        "\n",
        "plt.show()\n"
      ],
      "execution_count": 9,
      "outputs": [
        {
          "output_type": "display_data",
          "data": {
            "image/png": "[encoded data removed]",
            "text/plain": [
              "<Figure size 720x720 with 1 Axes>"
            ]
          },
          "metadata": {
            "tags": []
          }
        }
      ]
    },
    {
      "cell_type": "code",
      "metadata": {
        "id": "yjaghruu1P8j",
        "outputId": "6f6018b4-7907-45e1-f50c-2245f42d14eb",
        "colab": {
          "base_uri": "https://localhost:8080/",
          "height": 523
        }
      },
      "source": [
        "# Plotar o gráfico das quantidades de alunos indeferidos de cada curso\n",
        "\n",
        "quant_alunos_indef.T.plot.bar(figsize = (20,6), fontsize= 15)\n",
        "plt.title('Quantidade de alunos indeferidos por curso', fontdict= {'fontsize': 20})\n"
      ],
      "execution_count": 10,
      "outputs": [
        {
          "output_type": "execute_result",
          "data": {
            "text/plain": [
              "Text(0.5, 1.0, 'Quantidade de alunos indeferidos por curso')"
            ]
          },
          "metadata": {
            "tags": []
          },
          "execution_count": 10
        },
        {
          "output_type": "display_data",
          "data": {
            "image/png": "[encoded data removed]",
            "text/plain": [
              "<Figure size 1440x432 with 1 Axes>"
            ]
          },
          "metadata": {
            "tags": [],
            "needs_background": "light"
          }
        }
      ]
    },
    {
      "cell_type": "code",
      "metadata": {
        "id": "CUjZkYgptViY",
        "outputId": "77cc391d-44d2-4c32-dcda-b00aaa26488a",
        "colab": {
          "base_uri": "https://localhost:8080/",
          "height": 524
        }
      },
      "source": [
        "# Plotar o gráfico das quantidades de alunos de cada curso que recebem cada auxílio\n",
        "\n",
        "quant_alunos_aux.T.plot.bar(figsize = (20,6), fontsize= 15)\n",
        "plt.title('Quantidade de alunos que recebem cada auxílio por curso', fontdict= {'fontsize': 20})\n"
      ],
      "execution_count": 11,
      "outputs": [
        {
          "output_type": "execute_result",
          "data": {
            "text/plain": [
              "Text(0.5, 1.0, 'Quantidade de alunos que recebem cada auxílio por curso')"
            ]
          },
          "metadata": {
            "tags": []
          },
          "execution_count": 11
        },
        {
          "output_type": "display_data",
          "data": {
            "image/png": "[encoded data removed]",
            "text/plain": [
              "<Figure size 1440x432 with 1 Axes>"
            ]
          },
          "metadata": {
            "tags": [],
            "needs_background": "light"
          }
        }
      ]
    },
    {
      "cell_type": "code",
      "metadata": {
        "id": "gm2XFif-EZzG",
        "outputId": "b4268c8d-443d-49d1-979a-2ec1c42148e2",
        "colab": {
          "base_uri": "https://localhost:8080/",
          "height": 204
        }
      },
      "source": [
        "# Criar um dataframe com as porcentagens de auxílios em cada curso\n",
        "\n",
        "quant_alunos_perc = (quant_alunos_aux/Alunos_grad_df.count().tolist()*100).T\n",
        "quant_alunos_perc['Não recebem'] = 100 - quant_alunos_perc['Aux_perm']- quant_alunos_perc['Aux_dig'] - quant_alunos_perc['Ambos_Aux']\n",
        "quant_alunos_perc.T\n"
      ],
      "execution_count": 12,
      "outputs": [
        {
          "output_type": "execute_result",
          "data": {
            "text/html": [
              "<div>\n",
              "<style scoped>\n",
              "    .dataframe tbody tr th:only-of-type {\n",
              "        vertical-align: middle;\n",
              "    }\n",
              "\n",
              "    .dataframe tbody tr th {\n",
              "        vertical-align: top;\n",
              "    }\n",
              "\n",
              "    .dataframe thead th {\n",
              "        text-align: right;\n",
              "    }\n",
              "</style>\n",
              "<table border=\"1\" class=\"dataframe\">\n",
              "  <thead>\n",
              "    <tr style=\"text-align: right;\">\n",
              "      <th></th>\n",
              "      <th>Alunos_ECA</th>\n",
              "      <th>Alunos_Bio</th>\n",
              "      <th>Alunos_Eind</th>\n",
              "      <th>Alunos_Fis</th>\n",
              "      <th>Alunos_Geo</th>\n",
              "      <th>Alunos_Ghosp</th>\n",
              "      <th>Alunos_GPub</th>\n",
              "      <th>Alunos_Hist</th>\n",
              "      <th>Alunos_Let</th>\n",
              "      <th>Alunos_Mat</th>\n",
              "      <th>Alunos_Ped</th>\n",
              "      <th>Alunos_Qui</th>\n",
              "      <th>Alunos_SanAmb</th>\n",
              "      <th>Alunos_tads</th>\n",
              "      <th>Alunos_Tele</th>\n",
              "      <th>Alunos_Emat</th>\n",
              "    </tr>\n",
              "  </thead>\n",
              "  <tbody>\n",
              "    <tr>\n",
              "      <th>Aux_perm</th>\n",
              "      <td>6.84932</td>\n",
              "      <td>16.9811</td>\n",
              "      <td>2</td>\n",
              "      <td>5.64516</td>\n",
              "      <td>4.71698</td>\n",
              "      <td>8.16327</td>\n",
              "      <td>2.01342</td>\n",
              "      <td>16.2162</td>\n",
              "      <td>9.42029</td>\n",
              "      <td>2.68456</td>\n",
              "      <td>4.64396</td>\n",
              "      <td>2</td>\n",
              "      <td>8.54701</td>\n",
              "      <td>0.803213</td>\n",
              "      <td>8.51064</td>\n",
              "      <td>5.88235</td>\n",
              "    </tr>\n",
              "    <tr>\n",
              "      <th>Aux_dig</th>\n",
              "      <td>4.10959</td>\n",
              "      <td>1.88679</td>\n",
              "      <td>2</td>\n",
              "      <td>10.4839</td>\n",
              "      <td>4.71698</td>\n",
              "      <td>8.16327</td>\n",
              "      <td>8.05369</td>\n",
              "      <td>0</td>\n",
              "      <td>6.52174</td>\n",
              "      <td>3.3557</td>\n",
              "      <td>4.02477</td>\n",
              "      <td>3</td>\n",
              "      <td>1.7094</td>\n",
              "      <td>2.81124</td>\n",
              "      <td>8.51064</td>\n",
              "      <td>5.04202</td>\n",
              "    </tr>\n",
              "    <tr>\n",
              "      <th>Ambos_Aux</th>\n",
              "      <td>6.16438</td>\n",
              "      <td>6.28931</td>\n",
              "      <td>12</td>\n",
              "      <td>4.03226</td>\n",
              "      <td>2.83019</td>\n",
              "      <td>6.12245</td>\n",
              "      <td>3.3557</td>\n",
              "      <td>2.7027</td>\n",
              "      <td>6.52174</td>\n",
              "      <td>8.05369</td>\n",
              "      <td>4.02477</td>\n",
              "      <td>1.5</td>\n",
              "      <td>2.5641</td>\n",
              "      <td>2.40964</td>\n",
              "      <td>6.38298</td>\n",
              "      <td>5.04202</td>\n",
              "    </tr>\n",
              "    <tr>\n",
              "      <th>Não recebem</th>\n",
              "      <td>82.8767</td>\n",
              "      <td>74.8428</td>\n",
              "      <td>84</td>\n",
              "      <td>79.8387</td>\n",
              "      <td>87.7358</td>\n",
              "      <td>77.551</td>\n",
              "      <td>86.5772</td>\n",
              "      <td>81.0811</td>\n",
              "      <td>77.5362</td>\n",
              "      <td>85.906</td>\n",
              "      <td>87.3065</td>\n",
              "      <td>93.5</td>\n",
              "      <td>87.1795</td>\n",
              "      <td>93.9759</td>\n",
              "      <td>76.5957</td>\n",
              "      <td>84.0336</td>\n",
              "    </tr>\n",
              "  </tbody>\n",
              "</table>\n",
              "</div>"
            ],
            "text/plain": [
              "            Alunos_ECA Alunos_Bio  ... Alunos_Tele Alunos_Emat\n",
              "Aux_perm       6.84932    16.9811  ...     8.51064     5.88235\n",
              "Aux_dig        4.10959    1.88679  ...     8.51064     5.04202\n",
              "Ambos_Aux      6.16438    6.28931  ...     6.38298     5.04202\n",
              "Não recebem    82.8767    74.8428  ...     76.5957     84.0336\n",
              "\n",
              "[4 rows x 16 columns]"
            ]
          },
          "metadata": {
            "tags": []
          },
          "execution_count": 12
        }
      ]
    },
    {
      "cell_type": "code",
      "metadata": {
        "id": "Hg9vu3M1zK9s",
        "outputId": "994b43e2-c19a-497e-9d8c-bfabf7beeae8",
        "colab": {
          "base_uri": "https://localhost:8080/",
          "height": 524
        }
      },
      "source": [
        "# Plotar o gráfico da porcentagem da quatidade de alunos em cada curso\n",
        "\n",
        "quant_alunos_perc.plot(kind='bar',stacked = True, figsize = (20,6), fontsize= 15)\n",
        "\n",
        "plt.title('Porcentagem dos alunos que recebem cada auxílio por curso', fontdict= {'fontsize': 20})"
      ],
      "execution_count": 13,
      "outputs": [
        {
          "output_type": "execute_result",
          "data": {
            "text/plain": [
              "Text(0.5, 1.0, 'Porcentagem dos alunos que recebem cada auxílio por curso')"
            ]
          },
          "metadata": {
            "tags": []
          },
          "execution_count": 13
        },
        {
          "output_type": "display_data",
          "data": {
            "image/png": "[encoded data removed]",
            "text/plain": [
              "<Figure size 1440x432 with 1 Axes>"
            ]
          },
          "metadata": {
            "tags": [],
            "needs_background": "light"
          }
        }
      ]
    }
  ]
}